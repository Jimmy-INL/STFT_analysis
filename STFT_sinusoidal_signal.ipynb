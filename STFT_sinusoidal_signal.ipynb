{
 "cells": [
  {
   "cell_type": "markdown",
   "metadata": {
    "extensions": {
     "jupyter_dashboards": {
      "version": 1,
      "views": {
       "grid_default": {
        "col": 0,
        "height": 4,
        "hidden": false,
        "row": 0,
        "width": 12
       },
       "report_default": {}
      }
     }
    }
   },
   "source": [
    "# *Short-Time Fourier Transform* in sinusoidal signals\n",
    "This notebook aims to show how to apply the Short-Time Fourier Transform (STFT) in a simple sinusoidal signal in python. In order to do so, we will first generate a sinusoidal signal (i.e. periodic) and then apply and interpret its STFT."
   ]
  },
  {
   "cell_type": "code",
   "execution_count": 1,
   "metadata": {
    "extensions": {
     "jupyter_dashboards": {
      "version": 1,
      "views": {
       "grid_default": {
        "hidden": true
       },
       "report_default": {}
      }
     }
    }
   },
   "outputs": [],
   "source": [
    "### Importing libraries\n",
    "import numpy as np\n",
    "import pandas as pd\n",
    "\n",
    "import matplotlib.pyplot as plt\n",
    "import matplotlib.colors as colors"
   ]
  },
  {
   "cell_type": "code",
   "execution_count": 2,
   "metadata": {
    "extensions": {
     "jupyter_dashboards": {
      "version": 1,
      "views": {
       "grid_default": {
        "hidden": true
       },
       "report_default": {}
      }
     }
    }
   },
   "outputs": [],
   "source": [
    "%matplotlib inline"
   ]
  },
  {
   "cell_type": "code",
   "execution_count": 3,
   "metadata": {
    "extensions": {
     "jupyter_dashboards": {
      "version": 1,
      "views": {
       "grid_default": {
        "hidden": true
       },
       "report_default": {}
      }
     }
    }
   },
   "outputs": [],
   "source": [
    "import scipy.signal as signal"
   ]
  },
  {
   "cell_type": "markdown",
   "metadata": {
    "extensions": {
     "jupyter_dashboards": {
      "version": 1,
      "views": {
       "grid_default": {
        "col": 0,
        "height": 4,
        "hidden": false,
        "row": 4,
        "width": 4
       },
       "report_default": {}
      }
     }
    }
   },
   "source": [
    "## Generating the signal"
   ]
  },
  {
   "cell_type": "markdown",
   "metadata": {
    "extensions": {
     "jupyter_dashboards": {
      "version": 1,
      "views": {
       "grid_default": {
        "col": 0,
        "height": 4,
        "hidden": false,
        "row": 8,
        "width": 12
       },
       "report_default": {}
      }
     }
    }
   },
   "source": [
    "In signal processing, a time series is usually the effort resulting from a sampling process. When this signal is generated, as is the case now, we must also establish the time where the signal suppostly occurs. The function below emulates the sampling process and has as an input the initial and the final time sample.  \n",
    "\n",
    "It's important to notice that when creating different time series in order to generate signals with specific parameters, the sample frequency must be the same for the whole period, as well as its continuity must be assured."
   ]
  },
  {
   "cell_type": "code",
   "execution_count": 4,
   "metadata": {
    "extensions": {
     "jupyter_dashboards": {
      "version": 1,
      "views": {
       "grid_default": {
        "hidden": true
       },
       "report_default": {}
      }
     }
    }
   },
   "outputs": [],
   "source": [
    "def timeSeries(fs, ti, tf):\n",
    "    '''Returns a time series accordingly to the following parameters:\n",
    "        fs = the sampling rate, in hertz (e.g. 1e3 for 1kHz);\n",
    "        ti = the starting time (e.g. second 0);\n",
    "        tf = the final time (e.g. second 1).'''\n",
    "    T = 1./fs\n",
    "    timeSeries = np.arange(ti,tf,T)\n",
    "    return timeSeries"
   ]
  },
  {
   "cell_type": "code",
   "execution_count": 5,
   "metadata": {
    "extensions": {
     "jupyter_dashboards": {
      "version": 1,
      "views": {
       "grid_default": {
        "hidden": true
       },
       "report_default": {}
      }
     }
    }
   },
   "outputs": [],
   "source": [
    "## Sampling time for 0s to 10s, 1kHz:\n",
    "time = timeSeries(1e3,0,10)"
   ]
  },
  {
   "cell_type": "markdown",
   "metadata": {
    "extensions": {
     "jupyter_dashboards": {
      "version": 1,
      "views": {
       "grid_default": {
        "col": 4,
        "height": 4,
        "hidden": false,
        "row": 4,
        "width": null
       },
       "report_default": {}
      }
     }
    }
   },
   "source": [
    "The sinusoidal signal is generated from the following function:  \n",
    "$y(t) = sin(2\\pi ft)$, where $f$ is the frequency in Hertz of the signal $y(t)$ and $t$ is the time series generated above."
   ]
  },
  {
   "cell_type": "code",
   "execution_count": 6,
   "metadata": {
    "extensions": {
     "jupyter_dashboards": {
      "version": 1,
      "views": {
       "grid_default": {
        "hidden": true
       },
       "report_default": {}
      }
     }
    }
   },
   "outputs": [],
   "source": [
    "## Defining some useful functions\n",
    "def genSignal(freq, amp, timeSeries):\n",
    "    '''Returns the time series for a sinusoidal signal, where:\n",
    "        freq = frequency in Hertz (integer);\n",
    "        amp = signal amplitude (float);\n",
    "        timeSeries = the linear time series accordingly to the sample rate.'''\n",
    "    signal = amp*np.sin(freq*2*np.pi*timeSeries)\n",
    "    return signal    \n",
    "\n",
    "def plotSignal(signal, timeSeries, figsize=(6,3)):\n",
    "    '''Besides designed to plot a sine wave, can plot any time domain signal, where:\n",
    "        signal = numpy array for the signal (it also works for Pandas.Series);\n",
    "        timeSeries = the linear time series x-axis accordingly to the sample rate;\n",
    "        figsize = the plot size, set as (6,3) by default.'''\n",
    "    #The line above can be adjusted for more than one signal plot.\n",
    "    fig, axes = plt.subplots(1,1, figsize=figsize)\n",
    "    plt.plot(timeSeries, signal)\n",
    "    #Adjust the ylim to go 10% above and below from the signal amplitudes\n",
    "    axes.set_ylim(signal.min()+signal.min()*0.1, signal.max()+signal.max()*0.1)\n",
    "    axes.grid(True)\n",
    "    axes.set_ylabel('Signal amplitude')\n",
    "    axes.set_xlabel('Time (s)')\n",
    "    #axes.set_title('A {0}Hz sine wave'.format(freq))\n",
    "    return\n",
    "\n",
    "def sineWave(freq, amp, timeSeries):\n",
    "    '''Generates and plots a sine wave using genSignal() and plotSignal().\n",
    "        freq = frequency in Hertz (int);\n",
    "        amp = signal amplitude (float);\n",
    "        timeSeries = a linear time series accordingly to the sample rate.'''\n",
    "    signal = genSignal(freq, amp, timeSeries)\n",
    "    plotSignal(signal, timeSeries)\n",
    "    return signal"
   ]
  },
  {
   "cell_type": "code",
   "execution_count": 7,
   "metadata": {
    "extensions": {
     "jupyter_dashboards": {
      "version": 1,
      "views": {
       "grid_default": {
        "col": 0,
        "height": 8,
        "hidden": false,
        "row": 12,
        "width": 4
       },
       "report_default": {}
      }
     }
    }
   },
   "outputs": [
    {
     "data": {
      "image/png": "[encoded data removed]",
      "text/plain": [
       "<Figure size 432x216 with 1 Axes>"
      ]
     },
     "metadata": {},
     "output_type": "display_data"
    }
   ],
   "source": [
    "## Generating a sine wave of 1Hz and amplitude of 2:\n",
    "sign1 = sineWave(1, 2, time)"
   ]
  },
  {
   "cell_type": "markdown",
   "metadata": {
    "extensions": {
     "jupyter_dashboards": {
      "version": 1,
      "views": {
       "grid_default": {
        "col": 4,
        "height": 4,
        "hidden": false,
        "row": 12,
        "width": 4
       },
       "report_default": {}
      }
     }
    }
   },
   "source": [
    "## Applying the STFT:"
   ]
  },
  {
   "cell_type": "markdown",
   "metadata": {
    "extensions": {
     "jupyter_dashboards": {
      "version": 1,
      "views": {
       "grid_default": {
        "col": 8,
        "height": 4,
        "hidden": false,
        "row": 12,
        "width": 4
       },
       "report_default": {}
      }
     }
    }
   },
   "source": [
    "The STFT from SciPy library will always calculate the frequency accordingly to the half of the sampling frequency. "
   ]
  },
  {
   "cell_type": "code",
   "execution_count": 8,
   "metadata": {
    "extensions": {
     "jupyter_dashboards": {
      "version": 1,
      "views": {
       "grid_default": {
        "hidden": true
       },
       "report_default": {}
      }
     }
    }
   },
   "outputs": [],
   "source": [
    "## Creating a test sine wave:\n",
    "fs = 1e3\n",
    "testTime = timeSeries(fs,0,10)\n",
    "testSignal = genSignal(20,3,testTime)"
   ]
  },
  {
   "cell_type": "code",
   "execution_count": 9,
   "metadata": {
    "extensions": {
     "jupyter_dashboards": {
      "version": 1,
      "views": {
       "grid_default": {
        "col": 4,
        "height": 9,
        "hidden": false,
        "row": 16,
        "width": 4
       },
       "report_default": {}
      }
     }
    }
   },
   "outputs": [
    {
     "data": {
      "image/png": "[encoded data removed]",
      "text/plain": [
       "<Figure size 432x288 with 1 Axes>"
      ]
     },
     "metadata": {},
     "output_type": "display_data"
    }
   ],
   "source": [
    "## Calculating the STFT spectrogram\n",
    "## Reference: https://docs.scipy.org/doc/scipy/reference/generated/scipy.signal.stft.html\n",
    "f, t, Zxx = signal.stft(testSignal, fs)\n",
    "plt.pcolormesh(t, f, np.abs(Zxx), cmap=plt.get_cmap('RdYlGn'))\n",
    "plt.title('STFT Magnitude')\n",
    "plt.ylim(0,160)\n",
    "plt.ylabel('Frequency [Hz]')\n",
    "plt.xlabel('Time [sec]')\n",
    "plt.show()"
   ]
  },
  {
   "cell_type": "code",
   "execution_count": 10,
   "metadata": {
    "extensions": {
     "jupyter_dashboards": {
      "version": 1,
      "views": {
       "grid_default": {
        "hidden": true
       },
       "report_default": {}
      }
     }
    }
   },
   "outputs": [],
   "source": [
    "def calcSTFT(inputSignal, samplingFreq, window='hann', nperseg=256, figsize=(8,5), cmap='RdYlGn', ylim_max=None):\n",
    "    '''Calculates the STFT for a time series:\n",
    "        inputSignal: numpy array for the signal (it also works for Pandas.Series);\n",
    "        samplingFreq: the sampling frequency;\n",
    "        window : str or tuple or array_like, optional\n",
    "            Desired window to use. If `window` is a string or tuple, it is\n",
    "            passed to `get_window` to generate the window values, which are\n",
    "            DFT-even by default. See `get_window` for a list of windows and\n",
    "            required parameters. If `window` is array_like it will be used\n",
    "            directly as the window and its length must be nperseg. Defaults\n",
    "            to a Hann window.\n",
    "        nperseg : int, optional\n",
    "            Length of each segment. Defaults to 256.\n",
    "        figsize: the plot size, set as (6,3) by default;\n",
    "        cmap: the color map, set as the divergence Red-Yellow-Green by default;\n",
    "        ylim_max: the max frequency to be shown. By default it's the half sampling frequency.'''\n",
    "    f, t, Zxx = signal.stft(inputSignal, samplingFreq, window=window, nperseg=nperseg)\n",
    "    fig, axes = plt.subplots(1,1, figsize=figsize)\n",
    "    plt.pcolormesh(t, f, np.abs(Zxx), cmap=plt.get_cmap(cmap))\n",
    "    axes.grid(True)\n",
    "    axes.set_title('STFT Magnitude')\n",
    "    if ylim_max:\n",
    "        axes.set_ylim(0,ylim_max)\n",
    "    axes.set_ylabel('Frequency [Hz]')\n",
    "    axes.set_xlabel('Time [sec]')\n",
    "    plt.show()\n",
    "    return"
   ]
  },
  {
   "cell_type": "code",
   "execution_count": 11,
   "metadata": {
    "extensions": {
     "jupyter_dashboards": {
      "version": 1,
      "views": {
       "grid_default": {
        "col": 8,
        "height": 9,
        "hidden": false,
        "row": 16,
        "width": 4
       },
       "report_default": {}
      }
     }
    }
   },
   "outputs": [
    {
     "data": {
      "image/png": "[encoded data removed]",
      "text/plain": [
       "<Figure size 576x360 with 1 Axes>"
      ]
     },
     "metadata": {},
     "output_type": "display_data"
    }
   ],
   "source": [
    "calcSTFT(testSignal, 1e3, nperseg=512, ylim_max=200)"
   ]
  },
  {
   "cell_type": "code",
   "execution_count": 12,
   "metadata": {
    "extensions": {
     "jupyter_dashboards": {
      "version": 1,
      "views": {
       "grid_default": {
        "hidden": true
       },
       "report_default": {}
      }
     }
    }
   },
   "outputs": [],
   "source": [
    "def calcSTFT_norm(inputSignal, samplingFreq, window='hann', nperseg=256, figsize=(9,5), cmap='magma', ylim_max=None):\n",
    "    '''Calculates the STFT for a time series:\n",
    "        inputSignal: numpy array for the signal (it also works for Pandas.Series);\n",
    "        samplingFreq: the sampling frequency;\n",
    "        window : str or tuple or array_like, optional\n",
    "            Desired window to use. If `window` is a string or tuple, it is\n",
    "            passed to `get_window` to generate the window values, which are\n",
    "            DFT-even by default. See `get_window` for a list of windows and\n",
    "            required parameters. If `window` is array_like it will be used\n",
    "            directly as the window and its length must be nperseg. Defaults\n",
    "            to a Hann window.\n",
    "        nperseg : int, optional\n",
    "            Length of each segment. Defaults to 256.\n",
    "        figsize: the plot size, set as (6,3) by default;\n",
    "        cmap: the color map, set as the divergence Red-Yellow-Green by default;\n",
    "        ylim_max: the max frequency to be shown. By default it's the half sampling frequency.'''\n",
    "    ##Calculating STFT\n",
    "    f, t, Zxx = signal.stft(inputSignal, samplingFreq, window=window, nperseg=nperseg)\n",
    "    ##Plotting STFT\n",
    "    fig = plt.figure(figsize=figsize)\n",
    "    ### Different methods can be chosen for normalization: PowerNorm; LogNorm; SymLogNorm.\n",
    "    ### Reference: https://matplotlib.org/tutorials/colors/colormapnorms.html\n",
    "    spec = plt.pcolormesh(t, f, np.abs(Zxx), \n",
    "                          norm=colors.PowerNorm(gamma=1./8.),\n",
    "                          #norm=colors.LogNorm(vmin=np.abs(Zxx).min(), vmax=np.abs(Zxx).max()),\n",
    "                          #norm=colors.SymLogNorm(linthresh=0.13, linscale=1,\n",
    "                          #                       vmin=-1.0, vmax=1.0),\n",
    "                          cmap=plt.get_cmap(cmap))\n",
    "    cbar = plt.colorbar(spec)\n",
    "    ##Plot adjustments\n",
    "    plt.title('STFT Spectrogram')\n",
    "    ax = fig.axes[0]\n",
    "    ax.grid(True)\n",
    "    ax.set_title('STFT Magnitude')\n",
    "    if ylim_max:\n",
    "        ax.set_ylim(0,ylim_max)\n",
    "    ax.set_ylabel('Frequency [Hz]')\n",
    "    ax.set_xlabel('Time [sec]')\n",
    "    fig.show\n",
    "    return"
   ]
  },
  {
   "cell_type": "code",
   "execution_count": 13,
   "metadata": {
    "extensions": {
     "jupyter_dashboards": {
      "version": 1,
      "views": {
       "grid_default": {
        "hidden": true
       },
       "report_default": {}
      }
     }
    }
   },
   "outputs": [],
   "source": [
    "def calcSTFT_norm_output(inputSignal, samplingFreq, window='hann', nperseg=256, figsize=(9,5), cmap='magma', ylim_max=None):\n",
    "    '''Calculates the STFT for a time series:\n",
    "        inputSignal: numpy array for the signal (it also works for Pandas.Series);\n",
    "        samplingFreq: the sampling frequency;\n",
    "        window : str or tuple or array_like, optional\n",
    "            Desired window to use. If `window` is a string or tuple, it is\n",
    "            passed to `get_window` to generate the window values, which are\n",
    "            DFT-even by default. See `get_window` for a list of windows and\n",
    "            required parameters. If `window` is array_like it will be used\n",
    "            directly as the window and its length must be nperseg. Defaults\n",
    "            to a Hann window.\n",
    "        nperseg : int, optional\n",
    "            Length of each segment. Defaults to 256.\n",
    "        figsize: the plot size, set as (6,3) by default;\n",
    "        cmap: the color map, set as the divergence Red-Yellow-Green by default;\n",
    "        ylim_max: the max frequency to be shown. By default it's the half sampling frequency.\n",
    "        \n",
    "        This function is the same as \"calcSTFT_norm(), but outputing the following:\n",
    "        f: the frequency values\n",
    "        t: the time values\n",
    "        Zxx: the STFT values\"'''\n",
    "    ##Calculating STFT\n",
    "    f, t, Zxx = signal.stft(inputSignal, samplingFreq, window=window, nperseg=nperseg)\n",
    "    ##Plotting STFT\n",
    "    fig = plt.figure(figsize=figsize)\n",
    "    ### Different methods can be chosen for normalization: PowerNorm; LogNorm; SymLogNorm.\n",
    "    ### Reference: https://matplotlib.org/tutorials/colors/colormapnorms.html\n",
    "    spec = plt.pcolormesh(t, f, np.abs(Zxx), \n",
    "                          norm=colors.PowerNorm(gamma=1./8.),\n",
    "                          #norm=colors.LogNorm(vmin=np.abs(Zxx).min(), vmax=np.abs(Zxx).max()),\n",
    "                          #norm=colors.SymLogNorm(linthresh=0.13, linscale=1,\n",
    "                          #                       vmin=-1.0, vmax=1.0),\n",
    "                          cmap=plt.get_cmap(cmap))\n",
    "    cbar = plt.colorbar(spec)\n",
    "    ##Plot adjustments\n",
    "    plt.title('STFT Spectrogram')\n",
    "    ax = fig.axes[0]\n",
    "    ax.grid(True)\n",
    "    ax.set_title('STFT Magnitude')\n",
    "    if ylim_max:\n",
    "        ax.set_ylim(0,ylim_max)\n",
    "    ax.set_ylabel('Frequency [Hz]')\n",
    "    ax.set_xlabel('Time [sec]')\n",
    "    fig.show\n",
    "    return f,t,Zxx"
   ]
  },
  {
   "cell_type": "code",
   "execution_count": 14,
   "metadata": {
    "extensions": {
     "jupyter_dashboards": {
      "version": 1,
      "views": {
       "grid_default": {
        "col": 0,
        "height": 9,
        "hidden": false,
        "row": 20,
        "width": 4
       },
       "report_default": {}
      }
     }
    }
   },
   "outputs": [
    {
     "data": {
      "image/png": "[encoded data removed]",
      "text/plain": [
       "<Figure size 648x360 with 2 Axes>"
      ]
     },
     "metadata": {},
     "output_type": "display_data"
    }
   ],
   "source": [
    "calcSTFT_norm(testSignal, 1e3, nperseg=512, ylim_max=200)"
   ]
  },
  {
   "cell_type": "code",
   "execution_count": null,
   "metadata": {
    "extensions": {
     "jupyter_dashboards": {
      "version": 1,
      "views": {
       "grid_default": {
        "hidden": true
       },
       "report_default": {}
      }
     }
    }
   },
   "outputs": [],
   "source": []
  },
  {
   "cell_type": "markdown",
   "metadata": {
    "extensions": {
     "jupyter_dashboards": {
      "version": 1,
      "views": {
       "grid_default": {
        "col": 4,
        "height": 4,
        "hidden": false,
        "row": 25,
        "width": 4
       },
       "report_default": {}
      }
     }
    }
   },
   "source": [
    "## Simulating the LANL time:"
   ]
  },
  {
   "cell_type": "code",
   "execution_count": 15,
   "metadata": {
    "extensions": {
     "jupyter_dashboards": {
      "version": 1,
      "views": {
       "grid_default": {
        "hidden": true
       },
       "report_default": {}
      }
     }
    }
   },
   "outputs": [],
   "source": [
    "fsLANL = 4e6 #4MHz\n",
    "time1 = timeSeries(fsLANL,0,1)\n",
    "time2 = timeSeries(fsLANL,1,2)\n",
    "timeLANL = np.concatenate((time1, time2), axis=None)"
   ]
  },
  {
   "cell_type": "code",
   "execution_count": 16,
   "metadata": {
    "extensions": {
     "jupyter_dashboards": {
      "version": 1,
      "views": {
       "grid_default": {
        "hidden": true
       },
       "report_default": {}
      }
     }
    }
   },
   "outputs": [],
   "source": [
    "lanl1 = genSignal(20,50,time1)\n",
    "lanl2 = genSignal(113,28,time2) + genSignal(70,53,time2)\n",
    "lanl = np.concatenate((lanl1,lanl2), axis=None)"
   ]
  },
  {
   "cell_type": "markdown",
   "metadata": {
    "extensions": {
     "jupyter_dashboards": {
      "version": 1,
      "views": {
       "grid_default": {
        "col": 8,
        "height": 4,
        "hidden": false,
        "row": 25,
        "width": null
       },
       "report_default": {}
      }
     }
    }
   },
   "source": [
    "There's no specific rule to determine the number of samples per segment. However, it's useful to consider 1/4 of the sampling rate. E.g. for a 1kHz sampling rate, the nperseg parameter is set by default to 256. If we consider 4MHz, we can estimate the ideal nperseg by $log_2(4e6 / 4)$."
   ]
  },
  {
   "cell_type": "code",
   "execution_count": 17,
   "metadata": {
    "extensions": {
     "jupyter_dashboards": {
      "version": 1,
      "views": {
       "grid_default": {
        "col": 0,
        "height": 9,
        "hidden": false,
        "row": 29,
        "width": 4
       },
       "report_default": {}
      }
     }
    }
   },
   "outputs": [
    {
     "data": {
      "image/png": "[encoded data removed]",
      "text/plain": [
       "<Figure size 648x360 with 2 Axes>"
      ]
     },
     "metadata": {},
     "output_type": "display_data"
    }
   ],
   "source": [
    "#calcSTFT(lanl1, fsLANL, nperseg=16384, ylim_max=1e3)\n",
    "calcSTFT_norm(lanl, fsLANL, nperseg=1048576, ylim_max=300, cmap='magma')"
   ]
  },
  {
   "cell_type": "markdown",
   "metadata": {
    "extensions": {
     "jupyter_dashboards": {
      "version": 1,
      "views": {
       "grid_default": {
        "col": 4,
        "height": 4,
        "hidden": false,
        "row": 29,
        "width": 4
       },
       "report_default": {}
      }
     }
    }
   },
   "source": [
    "### Understanding the output parameters:"
   ]
  },
  {
   "cell_type": "markdown",
   "metadata": {
    "extensions": {
     "jupyter_dashboards": {
      "version": 1,
      "views": {
       "grid_default": {
        "col": 0,
        "height": 10,
        "hidden": false,
        "row": 38,
        "width": 12
       },
       "report_default": {}
      }
     }
    }
   },
   "source": [
    "I got a little bit confused when I tried to use the STFT values as features for a classifier. To make it clear, nothing is better than trying to understand them through a simpler and controlled example, as the signals we are dealing with here.  \n",
    "\n",
    "Accordingly to the scipy.signal.stft documentation (we use this module in our previous function), the output is as follow:  \n",
    "> * f : ndarray  \n",
    "> Array of sample frequencies.  \n",
    "> * t : ndarray  \n",
    "> Array of segment times.  \n",
    "> * Zxx : ndarray  \n",
    "> STFT of x. By default, the last axis of Zxx corresponds to the segment times.  \n",
    "\n",
    "We now adjusted the calcSTFT_norm() function to calcSTFT_norm_output(), which returns those arrays."
   ]
  },
  {
   "cell_type": "code",
   "execution_count": 18,
   "metadata": {
    "extensions": {
     "jupyter_dashboards": {
      "version": 1,
      "views": {
       "grid_default": {
        "col": 8,
        "height": 4,
        "hidden": false,
        "row": 29,
        "width": 4
       },
       "report_default": {}
      }
     }
    }
   },
   "outputs": [
    {
     "data": {
      "text/plain": [
       "17.194602975157967"
      ]
     },
     "execution_count": 18,
     "metadata": {},
     "output_type": "execute_result"
    }
   ],
   "source": [
    "np.log2(150000)"
   ]
  },
  {
   "cell_type": "code",
   "execution_count": 19,
   "metadata": {
    "extensions": {
     "jupyter_dashboards": {
      "version": 1,
      "views": {
       "grid_default": {
        "col": 4,
        "height": 4,
        "hidden": false,
        "row": 33,
        "width": 4
       },
       "report_default": {}
      }
     }
    }
   },
   "outputs": [
    {
     "data": {
      "text/plain": [
       "1048576"
      ]
     },
     "execution_count": 19,
     "metadata": {},
     "output_type": "execute_result"
    }
   ],
   "source": [
    "2**20"
   ]
  },
  {
   "cell_type": "code",
   "execution_count": 20,
   "metadata": {
    "extensions": {
     "jupyter_dashboards": {
      "version": 1,
      "views": {
       "grid_default": {
        "col": 0,
        "height": 9,
        "hidden": false,
        "row": 48,
        "width": 4
       },
       "report_default": {}
      }
     }
    }
   },
   "outputs": [
    {
     "data": {
      "image/png": "[encoded data removed]",
      "text/plain": [
       "<Figure size 648x360 with 2 Axes>"
      ]
     },
     "metadata": {},
     "output_type": "display_data"
    }
   ],
   "source": [
    "f, t, Zxx = calcSTFT_norm_output(lanl, fsLANL, nperseg=2**20, ylim_max=300, cmap='magma')"
   ]
  },
  {
   "cell_type": "markdown",
   "metadata": {
    "extensions": {
     "jupyter_dashboards": {
      "version": 1,
      "views": {
       "grid_default": {
        "col": 8,
        "height": 4,
        "hidden": false,
        "row": 33,
        "width": 4
       },
       "report_default": {}
      }
     }
    }
   },
   "source": [
    "Now, let's look closer all the attributes: "
   ]
  },
  {
   "cell_type": "code",
   "execution_count": 21,
   "metadata": {
    "extensions": {
     "jupyter_dashboards": {
      "version": 1,
      "views": {
       "grid_default": {
        "col": 4,
        "height": 6,
        "hidden": false,
        "row": 48,
        "width": 4
       },
       "report_default": {}
      }
     }
    }
   },
   "outputs": [
    {
     "name": "stdout",
     "output_type": "stream",
     "text": [
      "## About the signal:\n",
      "Sampling frequency: 4000000.0\n",
      "Signal.shape: (8000000,)\n",
      "\n",
      "## About the STFT:\n",
      "Nperseg: 1048576\n",
      "Output f.shape: (524289,)\n",
      "Output t.shape: (17,)\n",
      "Output Zxx.shape: (524289, 17)\n"
     ]
    }
   ],
   "source": [
    "print('## About the signal:\\nSampling frequency: {0}\\nSignal.shape: {1}\\n\\n## About the STFT:\\nNperseg: {2}\\nOutput f.shape: {3}\\nOutput t.shape: {4}\\nOutput Zxx.shape: {5}'.format(fsLANL,lanl.shape,1048576,f.shape,t.shape,Zxx.shape))"
   ]
  },
  {
   "cell_type": "markdown",
   "metadata": {
    "extensions": {
     "jupyter_dashboards": {
      "version": 1,
      "views": {
       "grid_default": {
        "col": 8,
        "height": 4,
        "hidden": false,
        "row": 48,
        "width": 4
       },
       "report_default": {}
      }
     }
    }
   },
   "source": [
    "#### Figuring out some relations:"
   ]
  },
  {
   "cell_type": "markdown",
   "metadata": {
    "extensions": {
     "jupyter_dashboards": {
      "version": 1,
      "views": {
       "grid_default": {
        "col": 0,
        "height": 4,
        "hidden": false,
        "row": 57,
        "width": 12
       },
       "report_default": {}
      }
     }
    }
   },
   "source": [
    "In a practical sense, the sampling frequency is related to the amount of samples per time unit. In other words, it means that for each second there should be 4e6 samples. And that's exactly what happens: 2s represented by 8.000.000 samples. "
   ]
  },
  {
   "cell_type": "code",
   "execution_count": 22,
   "metadata": {
    "extensions": {
     "jupyter_dashboards": {
      "version": 1,
      "views": {
       "grid_default": {
        "col": 8,
        "height": 5,
        "hidden": false,
        "row": 52,
        "width": 4
       },
       "report_default": {}
      }
     }
    }
   },
   "outputs": [
    {
     "data": {
      "text/plain": [
       "array([0.      , 0.131072, 0.262144, 0.393216, 0.524288, 0.65536 ,\n",
       "       0.786432, 0.917504, 1.048576, 1.179648, 1.31072 , 1.441792,\n",
       "       1.572864, 1.703936, 1.835008, 1.96608 , 2.097152])"
      ]
     },
     "execution_count": 22,
     "metadata": {},
     "output_type": "execute_result"
    }
   ],
   "source": [
    "# Taking a look at the time segments:\n",
    "t"
   ]
  },
  {
   "cell_type": "markdown",
   "metadata": {
    "extensions": {
     "jupyter_dashboards": {
      "version": 1,
      "views": {
       "grid_default": {
        "col": 0,
        "height": 4,
        "hidden": false,
        "row": 61,
        "width": null
       },
       "report_default": {}
      }
     }
    }
   },
   "source": [
    "But... **Why is there 17 segments?**  \n",
    "The first reason is due to the diadic aspect of the Fast Fourier Transform algorithm that is used in this implementation. I won't detail it here, but the main idea is that the signal length must be on a $N = 2^n$ basis, i.e. for a signal with 8e6 samples, we can only apply the STFT on it if we discard more than 4 million samples or, which is so much better, if we complete it with zeros (zero-padding). \\[Tip: calculate and compare the numbers $2^{22}$ and $2^{23}$\\]"
   ]
  },
  {
   "cell_type": "markdown",
   "metadata": {
    "extensions": {
     "jupyter_dashboards": {
      "version": 1,
      "views": {
       "grid_default": {
        "col": 0,
        "height": 7,
        "hidden": false,
        "row": 65,
        "width": 12
       },
       "report_default": {}
      }
     }
    }
   },
   "source": [
    "But one more question arouses: if my signal has length 8e6 and the number of samples per segment (nperseg) is 1.048.576, why is there 17 segments (15 original ones zero-padded from left and from right) instead of only around 8?  \n",
    "The answer again is on the scipy.signal.stft method documentation:\n",
    "> * noverlap : int, optional  \n",
    ">Number of points to overlap between segments. If None, noverlap = nperseg // 2. Defaults to None. When specified, the COLA constraint must be met (see Notes below)."
   ]
  },
  {
   "cell_type": "code",
   "execution_count": 23,
   "metadata": {
    "extensions": {
     "jupyter_dashboards": {
      "version": 1,
      "views": {
       "grid_default": {
        "col": 0,
        "height": 4,
        "hidden": false,
        "row": 72,
        "width": 4
       },
       "report_default": {}
      }
     }
    }
   },
   "outputs": [
    {
     "data": {
      "text/plain": [
       "15"
      ]
     },
     "execution_count": 23,
     "metadata": {},
     "output_type": "execute_result"
    }
   ],
   "source": [
    "## Trying to get to the number of segments from the signal length:\n",
    "nperseg = 1_048_576\n",
    "lanl.shape[0] // (1_048_576//2)"
   ]
  },
  {
   "cell_type": "code",
   "execution_count": 24,
   "metadata": {
    "extensions": {
     "jupyter_dashboards": {
      "version": 1,
      "views": {
       "grid_default": {
        "col": 4,
        "height": 4,
        "hidden": false,
        "row": 72,
        "width": 4
       },
       "report_default": {}
      }
     }
    }
   },
   "outputs": [
    {
     "data": {
      "text/plain": [
       "7864320.0"
      ]
     },
     "execution_count": 24,
     "metadata": {},
     "output_type": "execute_result"
    }
   ],
   "source": [
    "## Considering 15 segments with 1_048_576 length each:\n",
    "(1048576/2)*15"
   ]
  },
  {
   "cell_type": "code",
   "execution_count": 25,
   "metadata": {
    "extensions": {
     "jupyter_dashboards": {
      "version": 1,
      "views": {
       "grid_default": {
        "col": 8,
        "height": 4,
        "hidden": false,
        "row": 72,
        "width": 4
       },
       "report_default": {}
      }
     }
    }
   },
   "outputs": [
    {
     "data": {
      "text/plain": [
       "22.90689059560852"
      ]
     },
     "execution_count": 25,
     "metadata": {},
     "output_type": "execute_result"
    }
   ],
   "source": [
    "## Putting the number above in a diadic basis:\n",
    "np.log2(7_864_320)"
   ]
  },
  {
   "cell_type": "code",
   "execution_count": 26,
   "metadata": {
    "extensions": {
     "jupyter_dashboards": {
      "version": 1,
      "views": {
       "grid_default": {
        "col": 0,
        "height": 4,
        "hidden": false,
        "row": 76,
        "width": 4
       },
       "report_default": {}
      }
     }
    }
   },
   "outputs": [
    {
     "data": {
      "text/plain": [
       "16.0"
      ]
     },
     "execution_count": 26,
     "metadata": {},
     "output_type": "execute_result"
    }
   ],
   "source": [
    "## To avoid losing information, I need a signal with 2**23 samples:\n",
    "N = 2**23\n",
    "## For last, dividing this N by (nperseg//2):\n",
    "N / (nperseg//2)"
   ]
  },
  {
   "cell_type": "markdown",
   "metadata": {
    "extensions": {
     "jupyter_dashboards": {
      "version": 1,
      "views": {
       "grid_default": {
        "col": 4,
        "height": 4,
        "hidden": false,
        "row": 76,
        "width": 4
       },
       "report_default": {}
      }
     }
    }
   },
   "source": [
    "Okay, last observation: the array with the segment times has 17 lenght, but actually we have 16 segments, since they are just the lower and the higher limits of each segment. "
   ]
  },
  {
   "cell_type": "code",
   "execution_count": null,
   "metadata": {
    "extensions": {
     "jupyter_dashboards": {
      "version": 1,
      "views": {
       "grid_default": {
        "hidden": true
       },
       "report_default": {}
      }
     }
    }
   },
   "outputs": [],
   "source": []
  },
  {
   "cell_type": "markdown",
   "metadata": {
    "extensions": {
     "jupyter_dashboards": {
      "version": 1,
      "views": {
       "grid_default": {
        "col": 8,
        "height": 4,
        "hidden": false,
        "row": 76,
        "width": 4
       },
       "report_default": {}
      }
     }
    }
   },
   "source": [
    "## Analyzing a brain signal:"
   ]
  },
  {
   "cell_type": "code",
   "execution_count": 63,
   "metadata": {
    "extensions": {
     "jupyter_dashboards": {
      "version": 1,
      "views": {
       "grid_default": {
        "hidden": true
       },
       "report_default": {}
      }
     }
    }
   },
   "outputs": [],
   "source": [
    "import scipy.io\n",
    "mat = scipy.io.loadmat('brainSignal.mat')"
   ]
  },
  {
   "cell_type": "markdown",
   "metadata": {
    "extensions": {
     "jupyter_dashboards": {
      "version": 1,
      "views": {
       "grid_default": {
        "col": 0,
        "height": 4,
        "hidden": false,
        "row": 80,
        "width": 4
       },
       "report_default": {}
      }
     }
    }
   },
   "source": [
    "The *loadmat* method loads the Matlab data structure as a dictionary. Knowing this -- and with the previous knowledge on which variable we are interested in, we will load the signal:"
   ]
  },
  {
   "cell_type": "code",
   "execution_count": 64,
   "metadata": {
    "extensions": {
     "jupyter_dashboards": {
      "version": 1,
      "views": {
       "grid_default": {
        "col": 4,
        "height": 4,
        "hidden": false,
        "row": 80,
        "width": 4
       },
       "report_default": {}
      }
     }
    }
   },
   "outputs": [
    {
     "data": {
      "text/plain": [
       "(12000, 1)"
      ]
     },
     "execution_count": 64,
     "metadata": {},
     "output_type": "execute_result"
    }
   ],
   "source": [
    "brain_raw = mat['sD_W']\n",
    "## Checking the shape of the variable:\n",
    "brain_raw.shape"
   ]
  },
  {
   "cell_type": "markdown",
   "metadata": {
    "extensions": {
     "jupyter_dashboards": {
      "version": 1,
      "views": {
       "grid_default": {
        "col": 8,
        "height": 4,
        "hidden": false,
        "row": 80,
        "width": 4
       },
       "report_default": {}
      }
     }
    }
   },
   "source": [
    "We must adequate the read signal into an np.array:"
   ]
  },
  {
   "cell_type": "code",
   "execution_count": 65,
   "metadata": {
    "extensions": {
     "jupyter_dashboards": {
      "version": 1,
      "views": {
       "grid_default": {
        "hidden": true
       },
       "report_default": {}
      }
     }
    }
   },
   "outputs": [],
   "source": [
    "brain = brain_raw.T[0]"
   ]
  },
  {
   "cell_type": "code",
   "execution_count": 66,
   "metadata": {
    "extensions": {
     "jupyter_dashboards": {
      "version": 1,
      "views": {
       "grid_default": {
        "col": 0,
        "height": 10,
        "hidden": false,
        "row": 84,
        "width": 4
       },
       "report_default": {}
      }
     }
    },
    "scrolled": true
   },
   "outputs": [
    {
     "data": {
      "text/plain": [
       "[<matplotlib.lines.Line2D at 0x7fd2c847d240>]"
      ]
     },
     "execution_count": 66,
     "metadata": {},
     "output_type": "execute_result"
    },
    {
     "data": {
      "image/png": "[encoded data removed]",
      "text/plain": [
       "<Figure size 432x288 with 1 Axes>"
      ]
     },
     "metadata": {},
     "output_type": "display_data"
    }
   ],
   "source": [
    "plt.plot(brain)"
   ]
  },
  {
   "cell_type": "code",
   "execution_count": 67,
   "metadata": {
    "extensions": {
     "jupyter_dashboards": {
      "version": 1,
      "views": {
       "grid_default": {
        "col": 4,
        "height": 7,
        "hidden": false,
        "row": 84,
        "width": 4
       },
       "report_default": {}
      }
     }
    },
    "scrolled": true
   },
   "outputs": [
    {
     "data": {
      "image/png": "[encoded data removed]",
      "text/plain": [
       "<Figure size 648x288 with 2 Axes>"
      ]
     },
     "metadata": {},
     "output_type": "display_data"
    }
   ],
   "source": [
    "calcSTFT_norm(brain, 200, figsize=(9,4), ylim_max=100, cmap='inferno')"
   ]
  },
  {
   "cell_type": "code",
   "execution_count": 68,
   "metadata": {
    "extensions": {
     "jupyter_dashboards": {
      "version": 1,
      "views": {
       "grid_default": {
        "col": 8,
        "height": 7,
        "hidden": false,
        "row": 84,
        "width": 4
       },
       "report_default": {}
      }
     }
    }
   },
   "outputs": [
    {
     "data": {
      "image/png": "[encoded data removed]",
      "text/plain": [
       "<Figure size 648x288 with 2 Axes>"
      ]
     },
     "metadata": {},
     "output_type": "display_data"
    }
   ],
   "source": [
    "calcSTFT_norm(brain, 200, figsize=(9,4), ylim_max=100)"
   ]
  },
  {
   "cell_type": "code",
   "execution_count": null,
   "metadata": {
    "extensions": {
     "jupyter_dashboards": {
      "version": 1,
      "views": {
       "grid_default": {
        "hidden": true
       },
       "report_default": {}
      }
     }
    }
   },
   "outputs": [],
   "source": []
  }
 ],
 "metadata": {
  "extensions": {
   "jupyter_dashboards": {
    "activeView": "grid_default",
    "version": 1,
    "views": {
     "grid_default": {
      "cellMargin": 10,
      "defaultCellHeight": 20,
      "maxColumns": 12,
      "name": "grid",
      "type": "grid"
     },
     "report_default": {
      "name": "report",
      "type": "report"
     }
    }
   }
  },
  "kernelspec": {
   "display_name": "Python [conda env:analytics3]",
   "language": "python",
   "name": "conda-env-analytics3-py"
  },
  "language_info": {
   "codemirror_mode": {
    "name": "ipython",
    "version": 3
   },
   "file_extension": ".py",
   "mimetype": "text/x-python",
   "name": "python",
   "nbconvert_exporter": "python",
   "pygments_lexer": "ipython3",
   "version": "3.6.8"
  }
 },
 "nbformat": 4,
 "nbformat_minor": 2
}
